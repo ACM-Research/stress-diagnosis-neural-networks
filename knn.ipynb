{
 "cells": [
  {
   "cell_type": "code",
   "execution_count": null,
   "id": "b7392603",
   "metadata": {},
   "outputs": [],
   "source": [
    "import numpy as np\n",
    "\n",
    "import pandas as pd\n",
    "from sklearn import datasets, svm, metrics\n",
    "import matplotlib.pyplot as plt\n",
    "\n",
    "trainFile = pd.read_csv('train.csv').drop(columns=\"datasetId\")\n",
    "testFile = pd.read_csv('test.csv').drop(columns=\"datasetId\")\n",
    "#features\n",
    "X_train = trainFile.drop(columns='condition')\n",
    "y_train = trainFile['condition']\n",
    "X_test = testFile.drop(columns='condition')\n",
    "y_test = testFile['condition']\n"
   ]
  },
  {
   "cell_type": "code",
   "execution_count": null,
   "id": "b36bda0b",
   "metadata": {},
   "outputs": [],
   "source": [
    "from sklearn.neighbors import KNeighborsClassifier\n",
    "knn = KNeighborsClassifier()\n",
    "knn.fit(X_train, y_train)\n",
    "print('Accuracy of K-NN classifier on training set: {:.2f}'\n",
    "     .format(knn.score(X_train, y_train)))\n",
    "print('Accuracy of K-NN classifier on test set: {:.2f}'\n",
    "     .format(knn.score(X_test, y_test)))"
   ]
  },
  {
   "cell_type": "code",
   "execution_count": null,
   "id": "b67a9f49",
   "metadata": {},
   "outputs": [],
   "source": [
    "i=1\n",
    "knn.predict([X_test.iloc[i]])\n",
    "print(X_test.iloc[i])"
   ]
  },
  {
   "cell_type": "code",
   "execution_count": null,
   "id": "67a892a7",
   "metadata": {},
   "outputs": [],
   "source": []
  }
 ],
 "metadata": {
  "kernelspec": {
   "display_name": "Python 3",
   "language": "python",
   "name": "python3"
  },
  "language_info": {
   "codemirror_mode": {
    "name": "ipython",
    "version": 3
   },
   "file_extension": ".py",
   "mimetype": "text/x-python",
   "name": "python",
   "nbconvert_exporter": "python",
   "pygments_lexer": "ipython3",
   "version": "3.6.13"
  }
 },
 "nbformat": 4,
 "nbformat_minor": 5
}
